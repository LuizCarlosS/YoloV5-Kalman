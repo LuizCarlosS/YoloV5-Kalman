{
 "cells": [
  {
   "cell_type": "code",
   "execution_count": 5,
   "metadata": {},
   "outputs": [],
   "source": [
    "import pandas as pd\n",
    "import numpy as np\n",
    "import shutil\n",
    "import os\n",
    "from tqdm import tqdm\n",
    "\n",
    "from PIL import Image\n",
    "import cv2\n",
    "from sklearn.model_selection import train_test_split"
   ]
  },
  {
   "cell_type": "code",
   "execution_count": 2,
   "metadata": {},
   "outputs": [],
   "source": [
    "def create_yolo_dataset(target_path, imgs_base_path, seq_name, df, subset):\n",
    "    for frame in range(1, df.frame.max()+1):\n",
    "        current_frame_df = df[df.frame == frame].reset_index(drop=True)\n",
    "        img_path = imgs_base_path+'//'+'0'*(6-len(str(frame)))+f'{frame}.jpg'\n",
    "        h, w, _ = cv2.cvtColor(cv2.imread(img_path), cv2.COLOR_BGR2RGB).shape\n",
    "\n",
    "        filename = '0'*(6-len(str(frame)))+str(frame)\n",
    "        current_frame_df['x_center'] = (current_frame_df.left + current_frame_df.width/2)/w\n",
    "        current_frame_df['y_center'] = (current_frame_df.top + current_frame_df.height/2)/h\n",
    "        current_frame_df['width'] = current_frame_df.width/w\n",
    "        current_frame_df['height'] = current_frame_df.height/w\n",
    "        current_frame_df['class'] = np.zeros(len(current_frame_df), dtype=int)\n",
    "        current_frame_df = current_frame_df.drop(['frame','id', 'left', 'top','-1', '-2', '-3'], axis=1)\n",
    "        current_frame_df = current_frame_df[['class', 'x_center', 'y_center', 'width', 'height']]\n",
    "        current_frame_df.to_csv(os.path.join(target_path.format('labels', subset), seq_name+'_'+filename+'.txt'), header=None, index=False)\n",
    "        \n",
    "        shutil.copy(img_path, os.path.join(target_path.format('images', subset), seq_name+'_'+filename+'.jpg'))\n"
   ]
  },
  {
   "cell_type": "code",
   "execution_count": 8,
   "metadata": {},
   "outputs": [
    {
     "name": "stderr",
     "output_type": "stream",
     "text": [
      "100%|██████████| 16/16 [04:54<00:00, 18.40s/it]\n",
      "100%|██████████| 5/5 [01:45<00:00, 21.05s/it]\n"
     ]
    }
   ],
   "source": [
    "def mot2yolo(subset, seq_list):\n",
    "    target_path = 'D:\\datasets\\MOT17\\MOT17\\yolo-mot17\\{}\\{}'\n",
    "    for seq_name in tqdm(seq_list):\n",
    "        base_path = f'D:\\\\datasets\\\\MOT17\\\\MOT17\\\\train\\\\{seq_name}'\n",
    "        imgs_base_path = os.path.join(base_path, 'img1')\n",
    "        gt_base_path = os.path.join(base_path, 'gt\\\\gt.txt')\n",
    "        df = pd.read_csv(gt_base_path, names=['frame', 'id', 'left', 'top', 'width', 'height', '-1', '-2', '-3'], header=None)\n",
    "        create_yolo_dataset(target_path, imgs_base_path, seq_name, df, subset)\n",
    "\n",
    "train, test = train_test_split(os.listdir(f'D:\\\\datasets\\\\MOT17\\\\MOT17\\\\train'), test_size=0.2, random_state=42)\n",
    "\n",
    "mot2yolo('train', train)\n",
    "mot2yolo('test', test)\n"
   ]
  },
  {
   "cell_type": "code",
   "execution_count": null,
   "metadata": {},
   "outputs": [],
   "source": []
  }
 ],
 "metadata": {
  "kernelspec": {
   "display_name": "Python 3.10.4 ('torch-gpu')",
   "language": "python",
   "name": "python3"
  },
  "language_info": {
   "codemirror_mode": {
    "name": "ipython",
    "version": 3
   },
   "file_extension": ".py",
   "mimetype": "text/x-python",
   "name": "python",
   "nbconvert_exporter": "python",
   "pygments_lexer": "ipython3",
   "version": "3.10.4"
  },
  "orig_nbformat": 4,
  "vscode": {
   "interpreter": {
    "hash": "86a48583860fa25bb8dd5ffebb617ae55c60543e3c41b523f77d7c5a3d18e542"
   }
  }
 },
 "nbformat": 4,
 "nbformat_minor": 2
}
